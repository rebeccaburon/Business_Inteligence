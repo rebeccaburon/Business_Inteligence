{
 "cells": [
  {
   "cell_type": "markdown",
   "id": "8b00fc62",
   "metadata": {},
   "source": [
    "# Explore the feature ‘residual sugar’. Does it contain outliers? On which rows of the data frame are they found? Remove those rows."
   ]
  },
  {
   "cell_type": "code",
   "execution_count": 34,
   "id": "806d9d84",
   "metadata": {},
   "outputs": [],
   "source": [
    "import pandas as pd\n",
    "import seaborn as sns\n",
    "import matplotlib.pyplot as plt\n",
    "import numpy as np\n",
    "from sklearn.preprocessing import StandardScaler\n",
    "from sklearn.decomposition import PCA\n"
   ]
  },
  {
   "cell_type": "code",
   "execution_count": 2,
   "id": "adf8dd8e",
   "metadata": {},
   "outputs": [],
   "source": [
    "df_red = pd.read_csv(r'..\\data\\red_wine_cleaned.csv')\n",
    "df_white = pd.read_csv(r'..\\data\\red_wine_cleaned.csv')\n",
    "df_all = pd.read_csv(r'..\\data\\red_white_wine_cleaned.csv')"
   ]
  },
  {
   "cell_type": "code",
   "execution_count": 3,
   "id": "348daa77",
   "metadata": {},
   "outputs": [
    {
     "data": {
      "text/html": [
       "<div>\n",
       "<style scoped>\n",
       "    .dataframe tbody tr th:only-of-type {\n",
       "        vertical-align: middle;\n",
       "    }\n",
       "\n",
       "    .dataframe tbody tr th {\n",
       "        vertical-align: top;\n",
       "    }\n",
       "\n",
       "    .dataframe thead th {\n",
       "        text-align: right;\n",
       "    }\n",
       "</style>\n",
       "<table border=\"1\" class=\"dataframe\">\n",
       "  <thead>\n",
       "    <tr style=\"text-align: right;\">\n",
       "      <th></th>\n",
       "      <th>Unnamed: 0</th>\n",
       "      <th>fixed_acidity</th>\n",
       "      <th>volatile_acidity</th>\n",
       "      <th>citric_acid</th>\n",
       "      <th>residual_sugar</th>\n",
       "      <th>chlorides</th>\n",
       "      <th>free_sulfur_dioxide</th>\n",
       "      <th>total_sulfur_dioxide</th>\n",
       "      <th>density</th>\n",
       "      <th>ph</th>\n",
       "      <th>sulphates</th>\n",
       "      <th>alcohol</th>\n",
       "      <th>quality</th>\n",
       "    </tr>\n",
       "  </thead>\n",
       "  <tbody>\n",
       "    <tr>\n",
       "      <th>count</th>\n",
       "      <td>5318.000000</td>\n",
       "      <td>5318.000000</td>\n",
       "      <td>5318.000000</td>\n",
       "      <td>5318.000000</td>\n",
       "      <td>5318.000000</td>\n",
       "      <td>5318.000000</td>\n",
       "      <td>5318.000000</td>\n",
       "      <td>5318.000000</td>\n",
       "      <td>5318.000000</td>\n",
       "      <td>5318.000000</td>\n",
       "      <td>5318.000000</td>\n",
       "      <td>5318.000000</td>\n",
       "      <td>5318.000000</td>\n",
       "    </tr>\n",
       "    <tr>\n",
       "      <th>mean</th>\n",
       "      <td>2658.500000</td>\n",
       "      <td>7.214921</td>\n",
       "      <td>0.344146</td>\n",
       "      <td>0.318358</td>\n",
       "      <td>5.047255</td>\n",
       "      <td>0.056692</td>\n",
       "      <td>30.033847</td>\n",
       "      <td>114.010906</td>\n",
       "      <td>0.994536</td>\n",
       "      <td>3.224744</td>\n",
       "      <td>0.533366</td>\n",
       "      <td>10.548583</td>\n",
       "      <td>5.795224</td>\n",
       "    </tr>\n",
       "    <tr>\n",
       "      <th>std</th>\n",
       "      <td>1535.318697</td>\n",
       "      <td>1.319852</td>\n",
       "      <td>0.168278</td>\n",
       "      <td>0.147018</td>\n",
       "      <td>4.500584</td>\n",
       "      <td>0.036870</td>\n",
       "      <td>17.807805</td>\n",
       "      <td>56.670131</td>\n",
       "      <td>0.002966</td>\n",
       "      <td>0.160355</td>\n",
       "      <td>0.149770</td>\n",
       "      <td>1.185670</td>\n",
       "      <td>0.879627</td>\n",
       "    </tr>\n",
       "    <tr>\n",
       "      <th>min</th>\n",
       "      <td>0.000000</td>\n",
       "      <td>3.800000</td>\n",
       "      <td>0.080000</td>\n",
       "      <td>0.000000</td>\n",
       "      <td>0.600000</td>\n",
       "      <td>0.009000</td>\n",
       "      <td>1.000000</td>\n",
       "      <td>6.000000</td>\n",
       "      <td>0.987110</td>\n",
       "      <td>2.720000</td>\n",
       "      <td>0.220000</td>\n",
       "      <td>8.000000</td>\n",
       "      <td>3.000000</td>\n",
       "    </tr>\n",
       "    <tr>\n",
       "      <th>25%</th>\n",
       "      <td>1329.250000</td>\n",
       "      <td>6.400000</td>\n",
       "      <td>0.230000</td>\n",
       "      <td>0.240000</td>\n",
       "      <td>1.800000</td>\n",
       "      <td>0.038000</td>\n",
       "      <td>16.000000</td>\n",
       "      <td>74.000000</td>\n",
       "      <td>0.992200</td>\n",
       "      <td>3.112500</td>\n",
       "      <td>0.430000</td>\n",
       "      <td>9.500000</td>\n",
       "      <td>5.000000</td>\n",
       "    </tr>\n",
       "    <tr>\n",
       "      <th>50%</th>\n",
       "      <td>2658.500000</td>\n",
       "      <td>7.000000</td>\n",
       "      <td>0.300000</td>\n",
       "      <td>0.310000</td>\n",
       "      <td>2.700000</td>\n",
       "      <td>0.047000</td>\n",
       "      <td>28.000000</td>\n",
       "      <td>116.000000</td>\n",
       "      <td>0.994660</td>\n",
       "      <td>3.210000</td>\n",
       "      <td>0.510000</td>\n",
       "      <td>10.400000</td>\n",
       "      <td>6.000000</td>\n",
       "    </tr>\n",
       "    <tr>\n",
       "      <th>75%</th>\n",
       "      <td>3987.750000</td>\n",
       "      <td>7.700000</td>\n",
       "      <td>0.410000</td>\n",
       "      <td>0.400000</td>\n",
       "      <td>7.500000</td>\n",
       "      <td>0.066000</td>\n",
       "      <td>41.000000</td>\n",
       "      <td>153.000000</td>\n",
       "      <td>0.996770</td>\n",
       "      <td>3.330000</td>\n",
       "      <td>0.600000</td>\n",
       "      <td>11.400000</td>\n",
       "      <td>6.000000</td>\n",
       "    </tr>\n",
       "    <tr>\n",
       "      <th>max</th>\n",
       "      <td>5317.000000</td>\n",
       "      <td>15.900000</td>\n",
       "      <td>1.580000</td>\n",
       "      <td>1.660000</td>\n",
       "      <td>65.800000</td>\n",
       "      <td>0.611000</td>\n",
       "      <td>289.000000</td>\n",
       "      <td>440.000000</td>\n",
       "      <td>1.038980</td>\n",
       "      <td>4.010000</td>\n",
       "      <td>2.000000</td>\n",
       "      <td>14.900000</td>\n",
       "      <td>9.000000</td>\n",
       "    </tr>\n",
       "  </tbody>\n",
       "</table>\n",
       "</div>"
      ],
      "text/plain": [
       "        Unnamed: 0  fixed_acidity  volatile_acidity  citric_acid  \\\n",
       "count  5318.000000    5318.000000       5318.000000  5318.000000   \n",
       "mean   2658.500000       7.214921          0.344146     0.318358   \n",
       "std    1535.318697       1.319852          0.168278     0.147018   \n",
       "min       0.000000       3.800000          0.080000     0.000000   \n",
       "25%    1329.250000       6.400000          0.230000     0.240000   \n",
       "50%    2658.500000       7.000000          0.300000     0.310000   \n",
       "75%    3987.750000       7.700000          0.410000     0.400000   \n",
       "max    5317.000000      15.900000          1.580000     1.660000   \n",
       "\n",
       "       residual_sugar    chlorides  free_sulfur_dioxide  total_sulfur_dioxide  \\\n",
       "count     5318.000000  5318.000000          5318.000000           5318.000000   \n",
       "mean         5.047255     0.056692            30.033847            114.010906   \n",
       "std          4.500584     0.036870            17.807805             56.670131   \n",
       "min          0.600000     0.009000             1.000000              6.000000   \n",
       "25%          1.800000     0.038000            16.000000             74.000000   \n",
       "50%          2.700000     0.047000            28.000000            116.000000   \n",
       "75%          7.500000     0.066000            41.000000            153.000000   \n",
       "max         65.800000     0.611000           289.000000            440.000000   \n",
       "\n",
       "           density           ph    sulphates      alcohol      quality  \n",
       "count  5318.000000  5318.000000  5318.000000  5318.000000  5318.000000  \n",
       "mean      0.994536     3.224744     0.533366    10.548583     5.795224  \n",
       "std       0.002966     0.160355     0.149770     1.185670     0.879627  \n",
       "min       0.987110     2.720000     0.220000     8.000000     3.000000  \n",
       "25%       0.992200     3.112500     0.430000     9.500000     5.000000  \n",
       "50%       0.994660     3.210000     0.510000    10.400000     6.000000  \n",
       "75%       0.996770     3.330000     0.600000    11.400000     6.000000  \n",
       "max       1.038980     4.010000     2.000000    14.900000     9.000000  "
      ]
     },
     "execution_count": 3,
     "metadata": {},
     "output_type": "execute_result"
    }
   ],
   "source": [
    "df_all.describe()"
   ]
  },
  {
   "cell_type": "code",
   "execution_count": 5,
   "id": "f5fa2f8c",
   "metadata": {},
   "outputs": [
    {
     "data": {
      "image/png": "[encoded data removed]",
      "text/plain": [
       "<Figure size 640x480 with 1 Axes>"
      ]
     },
     "metadata": {},
     "output_type": "display_data"
    }
   ],
   "source": [
    "# Check for outliers using a boxplot\n",
    "\n",
    "sns.boxplot(data=df_all['residual_sugar'])\n",
    "plt.title(\"Boxplot of Residual Sugar\")\n",
    "plt.show()"
   ]
  },
  {
   "cell_type": "code",
   "execution_count": 7,
   "id": "91ded370",
   "metadata": {},
   "outputs": [],
   "source": [
    "# Calculate IQR\n",
    "Q1 = df_all['residual_sugar'].quantile(0.25)\n",
    "Q3 = df_all['residual_sugar'].quantile(0.75)\n",
    "IQR = Q3 - Q1"
   ]
  },
  {
   "cell_type": "code",
   "execution_count": 8,
   "id": "61d4ec33",
   "metadata": {},
   "outputs": [],
   "source": [
    "# Determine outlier bounds\n",
    "lower_bound = Q1 - 1.5 * IQR\n",
    "upper_bound = Q3 + 1.5 * IQR"
   ]
  },
  {
   "cell_type": "code",
   "execution_count": 16,
   "id": "e250153e",
   "metadata": {},
   "outputs": [
    {
     "name": "stdout",
     "output_type": "stream",
     "text": [
      "Outliers found at rows: [1357, 1367, 1390, 1445, 1447, 1450, 1504, 1512, 1528, 1543, 1548, 1569, 1577, 1603, 1693, 1696, 1701, 1726, 1746, 1775, 1836, 1864, 1874, 1883, 1940, 1961, 1999, 2000, 2009, 2040, 2152, 2169, 2196, 2237, 2269, 2273, 2279, 2338, 2408, 2458, 2486, 2572, 2586, 2610, 2612, 2644, 2677, 2713, 2735, 2751, 2776, 2779, 2798, 2813, 2858, 2873, 2912, 2940, 2945, 2948, 2994, 3001, 3013, 3020, 3030, 3040, 3071, 3117, 3132, 3159, 3163, 3223, 3237, 3290, 3331, 3348, 3363, 3370, 3381, 3427, 3433, 3464, 3474, 3497, 3524, 3587, 3590, 3607, 3651, 3654, 3688, 3829, 3834, 3852, 3856, 3914, 3928, 3939, 4030, 4157, 4171, 4176, 4217, 4257, 4258, 4261, 4287, 4312, 4319, 4335, 4359, 4374, 4397, 4432, 4468, 4476, 4499, 4503, 4542, 4555, 4598, 4602, 4613, 4622, 4669, 4678, 4682, 4810, 4811, 4893, 4910, 4926, 4936, 4937, 4957, 4970, 4975, 5141, 5187, 5188, 5211]\n",
      "Total number of outlier rows:  141\n"
     ]
    }
   ],
   "source": [
    "# Find rows with outliers\n",
    "outlier_rows = df_all[(df_all['residual_sugar'] < lower_bound) | (df_all['residual_sugar'] > upper_bound)]\n",
    "print(\"Outliers found at rows:\", outlier_rows.index.tolist())\n",
    "print(\"Total number of outlier rows: \", len(outlier_rows))"
   ]
  },
  {
   "cell_type": "markdown",
   "id": "f84f2867",
   "metadata": {},
   "source": [
    "* Total number of outlier rows:  141"
   ]
  },
  {
   "cell_type": "code",
   "execution_count": 17,
   "id": "8cf550da",
   "metadata": {},
   "outputs": [],
   "source": [
    "# Remove outliers\n",
    "df_all_cleaned = df_all[~df_all.index.isin(outlier_rows.index)]\n"
   ]
  },
  {
   "cell_type": "code",
   "execution_count": 19,
   "id": "72a64f45",
   "metadata": {},
   "outputs": [
    {
     "name": "stdout",
     "output_type": "stream",
     "text": [
      "Original number of rows: 5318\n",
      "After removing outliers: 5177\n"
     ]
    }
   ],
   "source": [
    "# Check the number of rows before and after\n",
    "print(\"Original number of rows:\", len(df_all))\n",
    "print(\"After removing outliers:\", len(df_all_cleaned))"
   ]
  },
  {
   "cell_type": "markdown",
   "id": "08e9a905",
   "metadata": {},
   "source": [
    "# Remove the attributes, which aren’t correlated with the wine quality, as well as the attributes that are highly correlated with another independent attribute."
   ]
  },
  {
   "cell_type": "code",
   "execution_count": 21,
   "id": "4a6a5ca9",
   "metadata": {},
   "outputs": [],
   "source": [
    "#  Calculate the correlation matrix\n",
    "correlation_matrix = df_all.corr(numeric_only=True)\n"
   ]
  },
  {
   "cell_type": "code",
   "execution_count": 22,
   "id": "bdbbe2dc",
   "metadata": {},
   "outputs": [],
   "source": [
    "# Correlation with 'quality'\n",
    "quality_corr = correlation_matrix ['quality'].drop('quality')  # remove self-correlation"
   ]
  },
  {
   "cell_type": "code",
   "execution_count": 24,
   "id": "08f7c25a",
   "metadata": {},
   "outputs": [],
   "source": [
    "# Remove weakly correlated attributes with quality (e.g., abs(corr) < 0.05)\n",
    "low_corr_features = quality_corr[quality_corr.abs() < 0.05].index.tolist()\n"
   ]
  },
  {
   "cell_type": "code",
   "execution_count": 25,
   "id": "b3160fc5",
   "metadata": {},
   "outputs": [
    {
     "name": "stdout",
     "output_type": "stream",
     "text": [
      "Low correlation with quality: ['ph', 'sulphates']\n"
     ]
    }
   ],
   "source": [
    "print(\"Low correlation with quality:\", low_corr_features)\n"
   ]
  },
  {
   "cell_type": "markdown",
   "id": "3fc002a9",
   "metadata": {},
   "source": [
    "* Low correlation with quality =  'ph' &  'sulphates'"
   ]
  },
  {
   "cell_type": "code",
   "execution_count": 27,
   "id": "f785b13d",
   "metadata": {},
   "outputs": [],
   "source": [
    "# Find features highly correlated with each other (multicollinearity) - Create an upper triangle matrix of correlations\n",
    "upper_tri = correlation_matrix.where(np.triu(np.ones(correlation_matrix.shape), k=1).astype(bool))\n"
   ]
  },
  {
   "cell_type": "code",
   "execution_count": 30,
   "id": "35f5ef39",
   "metadata": {},
   "outputs": [],
   "source": [
    "# Drop features with correlation > 0.9\n",
    "high_corr_features = [column for column in upper_tri.columns if any(upper_tri[column].abs() > 0.8)]"
   ]
  },
  {
   "cell_type": "code",
   "execution_count": 33,
   "id": "63692dea",
   "metadata": {},
   "outputs": [
    {
     "name": "stdout",
     "output_type": "stream",
     "text": [
      "Highly correlated features: []\n"
     ]
    }
   ],
   "source": [
    "print(\"Highly correlated features:\", high_corr_features)"
   ]
  },
  {
   "cell_type": "markdown",
   "id": "4671e354",
   "metadata": {},
   "source": [
    "Highly correlated features higher than 0.9 = 0"
   ]
  },
  {
   "cell_type": "markdown",
   "id": "2f740383",
   "metadata": {},
   "source": [
    "# Transform the data by applying PCA (Principle Component Analysis)."
   ]
  },
  {
   "cell_type": "code",
   "execution_count": 42,
   "id": "08a42cb6",
   "metadata": {},
   "outputs": [],
   "source": [
    "# Separate features (X) and labels (y)\n",
    "X = df_all.drop(columns='quality')  # Drop target\n",
    "X = pd.get_dummies(X) # One-hot encode categorical features  \n",
    "y = df_all['quality']"
   ]
  },
  {
   "cell_type": "code",
   "execution_count": 43,
   "id": "e05b11ad",
   "metadata": {},
   "outputs": [],
   "source": [
    "# Standardize the features\n",
    "scaler = StandardScaler()\n",
    "X_scaled = scaler.fit_transform(X)"
   ]
  },
  {
   "cell_type": "code",
   "execution_count": 44,
   "id": "87a5805c",
   "metadata": {},
   "outputs": [],
   "source": [
    "# Apply PCA\n",
    "pca = PCA()\n",
    "X_pca = pca.fit_transform(X_scaled)"
   ]
  },
  {
   "cell_type": "code",
   "execution_count": 45,
   "id": "11dac669",
   "metadata": {},
   "outputs": [
    {
     "data": {
      "image/png": "[encoded data removed]",
      "text/plain": [
       "<Figure size 800x500 with 1 Axes>"
      ]
     },
     "metadata": {},
     "output_type": "display_data"
    }
   ],
   "source": [
    "# Plot explained variance\n",
    "plt.figure(figsize=(8, 5))\n",
    "plt.plot(np.cumsum(pca.explained_variance_ratio_), marker='o')\n",
    "plt.xlabel('Number of Components')\n",
    "plt.ylabel('Cumulative Explained Variance')\n",
    "plt.title('PCA - Explained Variance')\n",
    "plt.grid(True)\n",
    "plt.show()"
   ]
  },
  {
   "cell_type": "markdown",
   "id": "90d6ef94",
   "metadata": {},
   "source": [
    "##### Principal Component Analysis (PCA)\n",
    "1. Why use it?\n",
    "* Your data may have too many columns (features).\n",
    "* Some of them don’t matter or are very similar to others.\n",
    "* PCA helps you keep just the useful information.\n",
    "\n",
    "2. How it works:\n",
    "* Looks at all your features.\n",
    "* Finds new \"summary features\" (called principal components) that:\n",
    "* Combine the old ones,\n",
    "* Keep most of the important patterns,\n",
    "* Throw away the noise or unhelpful stuff.\n",
    "\n"
   ]
  },
  {
   "cell_type": "markdown",
   "id": "bb260da2",
   "metadata": {},
   "source": [
    "# Print out ten random rows from the final dataset as a prove of concept."
   ]
  },
  {
   "cell_type": "code",
   "execution_count": 46,
   "id": "7a2bb70a",
   "metadata": {},
   "outputs": [],
   "source": [
    "# Create a DataFrame from the reduced PCA data\n",
    "df_pca = pd.DataFrame(X_pca)"
   ]
  },
  {
   "cell_type": "code",
   "execution_count": 48,
   "id": "06a8bd18",
   "metadata": {},
   "outputs": [
    {
     "name": "stdout",
     "output_type": "stream",
     "text": [
      "            0         1         2         3         4         5         6   \\\n",
      "4697 -1.327750 -2.916807  1.147965 -0.598832  0.115964  0.172375 -0.712807   \n",
      "5032 -1.484832 -1.566313  0.161356 -0.294954  0.307097  0.731071 -0.592348   \n",
      "3750 -1.304487 -1.831635  0.503324  0.792287 -0.288803  0.271095 -0.019462   \n",
      "1634 -0.625322  0.334451 -0.735059  0.401553  0.043217  0.126880  0.033215   \n",
      "555   4.136821  0.907806  1.523042  3.057640 -0.511225  1.515802 -0.630438   \n",
      "5292 -1.938595 -2.739737  0.277593  0.907315 -0.468784  0.139790 -1.085040   \n",
      "530   3.007254  1.308779  0.798480  0.579182 -0.993480 -1.866384 -0.120561   \n",
      "4141 -1.396922  1.175442 -1.520869  1.416043 -0.136242  0.223822 -0.300184   \n",
      "333   3.629428  0.777011  1.158715  0.700529 -0.312193 -0.718411 -0.858785   \n",
      "4190 -1.629138  1.019883  0.879334 -0.181497  0.322177  0.868240 -0.592037   \n",
      "\n",
      "            7         8         9         10        11        12            13  \n",
      "4697 -0.605287 -0.137620  0.277187  0.292962  0.260719  0.013646  1.445087e-18  \n",
      "5032 -0.558126  0.174127  0.385461  0.553717  0.701852  0.301046  3.900231e-16  \n",
      "3750  0.329608 -0.233925  0.153035 -0.100108 -0.386197 -0.001681 -1.650884e-16  \n",
      "1634  0.984332  0.301288 -0.993699 -0.111066 -0.427430  0.019031 -1.650884e-16  \n",
      "555   3.032797 -0.182124 -0.425493 -0.655021 -0.163526 -0.074494  9.990806e-16  \n",
      "5292 -0.250986  0.210805  0.566092 -0.800032  0.314619 -0.002501  1.124674e-16  \n",
      "530  -0.579987 -0.748100  0.602274 -0.433002  0.291168 -0.067726  5.549914e-16  \n",
      "4141  0.258412  0.459597  0.738042 -0.109883 -0.038724  0.091579  1.124674e-16  \n",
      "333   0.876374 -0.707923 -0.243355 -0.799593  0.122825  0.038176  5.549914e-16  \n",
      "4190  0.165476 -0.852356  0.012452 -0.552971 -0.315124  0.224803 -1.650884e-16  \n"
     ]
    }
   ],
   "source": [
    "print(df_pca.sample(10, random_state=42))  # random_state ensures repeatable results OBS \n",
    "# the number 42 has no special technical meaning.\n"
   ]
  }
 ],
 "metadata": {
  "kernelspec": {
   "display_name": "base",
   "language": "python",
   "name": "python3"
  },
  "language_info": {
   "codemirror_mode": {
    "name": "ipython",
    "version": 3
   },
   "file_extension": ".py",
   "mimetype": "text/x-python",
   "name": "python",
   "nbconvert_exporter": "python",
   "pygments_lexer": "ipython3",
   "version": "3.12.7"
  }
 },
 "nbformat": 4,
 "nbformat_minor": 5
}
